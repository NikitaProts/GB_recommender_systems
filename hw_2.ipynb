{
 "cells": [
  {
   "cell_type": "code",
   "execution_count": 1,
   "metadata": {
    "colab": {},
    "colab_type": "code",
    "id": "rgIzW-DSC8Yi"
   },
   "outputs": [],
   "source": [
    "import pandas as pd\n",
    "import numpy as np\n",
    "import matplotlib.pyplot as plt\n",
    "%matplotlib inline\n",
    "\n",
    "# Для работы с матрицами\n",
    "from scipy.sparse import csr_matrix, coo_matrix\n",
    "\n",
    "# Детерминированные алгоритмы\n",
    "from implicit.nearest_neighbours import ItemItemRecommender, CosineRecommender, TFIDFRecommender, BM25Recommender\n",
    "\n",
    "# Метрики\n",
    "from implicit.evaluation import train_test_split\n",
    "from implicit.evaluation import precision_at_k, mean_average_precision_at_k, AUC_at_k, ndcg_at_k"
   ]
  },
  {
   "cell_type": "code",
   "execution_count": 2,
   "metadata": {
    "colab": {},
    "colab_type": "code",
    "id": "9qFkcgyrC8Yt",
    "outputId": "24a33bf1-942a-4b18-c54a-a7500c8f8712"
   },
   "outputs": [
    {
     "data": {
      "text/html": [
       "<div>\n",
       "<style scoped>\n",
       "    .dataframe tbody tr th:only-of-type {\n",
       "        vertical-align: middle;\n",
       "    }\n",
       "\n",
       "    .dataframe tbody tr th {\n",
       "        vertical-align: top;\n",
       "    }\n",
       "\n",
       "    .dataframe thead th {\n",
       "        text-align: right;\n",
       "    }\n",
       "</style>\n",
       "<table border=\"1\" class=\"dataframe\">\n",
       "  <thead>\n",
       "    <tr style=\"text-align: right;\">\n",
       "      <th></th>\n",
       "      <th>user_id</th>\n",
       "      <th>basket_id</th>\n",
       "      <th>day</th>\n",
       "      <th>item_id</th>\n",
       "      <th>quantity</th>\n",
       "      <th>sales_value</th>\n",
       "      <th>store_id</th>\n",
       "      <th>retail_disc</th>\n",
       "      <th>trans_time</th>\n",
       "      <th>week_no</th>\n",
       "      <th>coupon_disc</th>\n",
       "      <th>coupon_match_disc</th>\n",
       "    </tr>\n",
       "  </thead>\n",
       "  <tbody>\n",
       "    <tr>\n",
       "      <th>0</th>\n",
       "      <td>2375</td>\n",
       "      <td>26984851472</td>\n",
       "      <td>1</td>\n",
       "      <td>1004906</td>\n",
       "      <td>1</td>\n",
       "      <td>1.39</td>\n",
       "      <td>364</td>\n",
       "      <td>-0.6</td>\n",
       "      <td>1631</td>\n",
       "      <td>1</td>\n",
       "      <td>0.0</td>\n",
       "      <td>0.0</td>\n",
       "    </tr>\n",
       "    <tr>\n",
       "      <th>1</th>\n",
       "      <td>2375</td>\n",
       "      <td>26984851472</td>\n",
       "      <td>1</td>\n",
       "      <td>1033142</td>\n",
       "      <td>1</td>\n",
       "      <td>0.82</td>\n",
       "      <td>364</td>\n",
       "      <td>0.0</td>\n",
       "      <td>1631</td>\n",
       "      <td>1</td>\n",
       "      <td>0.0</td>\n",
       "      <td>0.0</td>\n",
       "    </tr>\n",
       "  </tbody>\n",
       "</table>\n",
       "</div>"
      ],
      "text/plain": [
       "   user_id    basket_id  day  item_id  quantity  sales_value  store_id  \\\n",
       "0     2375  26984851472    1  1004906         1         1.39       364   \n",
       "1     2375  26984851472    1  1033142         1         0.82       364   \n",
       "\n",
       "   retail_disc  trans_time  week_no  coupon_disc  coupon_match_disc  \n",
       "0         -0.6        1631        1          0.0                0.0  \n",
       "1          0.0        1631        1          0.0                0.0  "
      ]
     },
     "execution_count": 2,
     "metadata": {},
     "output_type": "execute_result"
    }
   ],
   "source": [
    "data = pd.read_csv('retail_train.csv')\n",
    "data.head(2)"
   ]
  },
  {
   "cell_type": "code",
   "execution_count": 6,
   "metadata": {
    "colab": {},
    "colab_type": "code",
    "id": "epcBZlgJC8Y0"
   },
   "outputs": [],
   "source": [
    "test_size_weeks = 3\n",
    "\n",
    "data_train = data[data['week_no'] < data['week_no'].max() - test_size_weeks]\n",
    "data_test = data[data['week_no'] >= data['week_no'].max() - test_size_weeks]"
   ]
  },
  {
   "cell_type": "code",
   "execution_count": 7,
   "metadata": {},
   "outputs": [],
   "source": [
    "my_result = data_test.groupby('user_id')['item_id'].unique().reset_index()\n",
    "my_result.columns=['user_id', 'actual']\n",
    "my_result['actual'] = my_result['actual'].apply(lambda x: list(x))"
   ]
  },
  {
   "cell_type": "markdown",
   "metadata": {},
   "source": [
    "\n"
   ]
  },
  {
   "cell_type": "markdown",
   "metadata": {
    "colab_type": "text",
    "id": "zlUUzLFeC8Y4"
   },
   "source": [
    "### Задание 1. Weighted Random Recommendation\n",
    "\n",
    "Напишите код для случайных рекоммендаций, в которых вероятность рекомендовать товар прямо пропорциональна логарифму продаж\n",
    "- Можно сэмплировать товары случайно, но пропорционально какому-либо весу\n",
    "- Например, прямопропорционально популярности. вес = log(sales_sum товара)\n",
    "- Придумайте пример 3 весов, посчитайте weighted_random_recommendation для разных весов"
   ]
  },
  {
   "cell_type": "code",
   "execution_count": 8,
   "metadata": {
    "colab": {},
    "colab_type": "code",
    "id": "brMuCHolC8Y4"
   },
   "outputs": [],
   "source": [
    "def weighted_random_recommendation(items_weights, n=5):\n",
    "    \"\"\"Случайные рекоммендации\n",
    "    \n",
    "    Input\n",
    "    -----\n",
    "    items_weights: pd.DataFrame\n",
    "        Датафрейм со столбцами item_id, weight. Сумма weight по всем товарам = 1\n",
    "    \"\"\"\n",
    "    \n",
    "    items = np.array(items_weights.iloc[:,0])\n",
    "    probability = np.array(items_weights.iloc[:,1])\n",
    "    recs = np.random.choice(items, size=n, replace=True, p=probability)\n",
    "    \n",
    "    return recs.tolist()"
   ]
  },
  {
   "cell_type": "markdown",
   "metadata": {},
   "source": [
    "Сделайте предсказания"
   ]
  },
  {
   "cell_type": "code",
   "execution_count": 9,
   "metadata": {},
   "outputs": [],
   "source": [
    "sales_log = data_train.groupby('item_id')['sales_value'].sum().reset_index()    \n",
    "\n",
    "sales_log['sales_value'] = np.log(sales_log['sales_value'], out=np.zeros_like(sales_log['sales_value']), where=(sales_log['sales_value'] !=0))\n",
    "\n",
    "sales_log.loc[sales_log['sales_value'] < 0, 'sales_value'] = 0\n",
    "\n",
    "sales_log['sales_value'] = sales_log['sales_value']/(sales_log['sales_value'].sum())\n",
    "\n",
    "my_result['weighted_random_recs_1'] = my_result['user_id'].apply(lambda x: weighted_random_recommendation(sales_log, n=5))"
   ]
  },
  {
   "cell_type": "code",
   "execution_count": 10,
   "metadata": {
    "colab": {},
    "colab_type": "code",
    "id": "nK_AS3tmC8Y7"
   },
   "outputs": [],
   "source": [
    "sales = data_train.groupby('item_id')['sales_value'].sum().reset_index()\n",
    "sales['sales_value'] = sales['sales_value']/(sales['sales_value'].sum())\n",
    "\n",
    "my_result['weighted_random_recs_2'] = my_result['user_id'].apply(lambda x: weighted_random_recommendation(sales, n=5))"
   ]
  },
  {
   "cell_type": "code",
   "execution_count": 11,
   "metadata": {},
   "outputs": [],
   "source": [
    "sales_num = data_train.groupby('item_id')['quantity'].sum().reset_index()\n",
    "sales_num['quantity'] = sales_num['quantity']/(sales_num['quantity'].sum())\n",
    "\n",
    "my_result['weighted_random_recs_3'] = my_result['user_id'].apply(lambda x: weighted_random_recommendation(sales_num, n=5))"
   ]
  },
  {
   "cell_type": "code",
   "execution_count": 12,
   "metadata": {},
   "outputs": [
    {
     "data": {
      "text/html": [
       "<div>\n",
       "<style scoped>\n",
       "    .dataframe tbody tr th:only-of-type {\n",
       "        vertical-align: middle;\n",
       "    }\n",
       "\n",
       "    .dataframe tbody tr th {\n",
       "        vertical-align: top;\n",
       "    }\n",
       "\n",
       "    .dataframe thead th {\n",
       "        text-align: right;\n",
       "    }\n",
       "</style>\n",
       "<table border=\"1\" class=\"dataframe\">\n",
       "  <thead>\n",
       "    <tr style=\"text-align: right;\">\n",
       "      <th></th>\n",
       "      <th>user_id</th>\n",
       "      <th>actual</th>\n",
       "      <th>weighted_random_recs_1</th>\n",
       "      <th>weighted_random_recs_2</th>\n",
       "      <th>weighted_random_recs_3</th>\n",
       "    </tr>\n",
       "  </thead>\n",
       "  <tbody>\n",
       "    <tr>\n",
       "      <th>0</th>\n",
       "      <td>1</td>\n",
       "      <td>[821867, 834484, 856942, 865456, 889248, 90795...</td>\n",
       "      <td>[6703878, 7166638, 5569419, 1045437, 888167]</td>\n",
       "      <td>[865233, 10149265, 9242471, 896613, 5996054]</td>\n",
       "      <td>[6533889, 6534178, 6534178, 6534178, 6534178]</td>\n",
       "    </tr>\n",
       "    <tr>\n",
       "      <th>1</th>\n",
       "      <td>3</td>\n",
       "      <td>[835476, 851057, 872021, 878302, 879948, 90963...</td>\n",
       "      <td>[930870, 905436, 12355478, 955614, 1086304]</td>\n",
       "      <td>[6534330, 6534178, 873887, 8065410, 920654]</td>\n",
       "      <td>[6534178, 6534178, 6534178, 6534178, 6534178]</td>\n",
       "    </tr>\n",
       "    <tr>\n",
       "      <th>2</th>\n",
       "      <td>6</td>\n",
       "      <td>[920308, 926804, 946489, 1006718, 1017061, 107...</td>\n",
       "      <td>[1128206, 8122102, 12672883, 1021709, 1078127]</td>\n",
       "      <td>[947858, 15926844, 6533765, 1076875, 6424251]</td>\n",
       "      <td>[6534178, 6534178, 6534178, 6534178, 6534178]</td>\n",
       "    </tr>\n",
       "    <tr>\n",
       "      <th>3</th>\n",
       "      <td>7</td>\n",
       "      <td>[840386, 889774, 898068, 909714, 929067, 95347...</td>\n",
       "      <td>[12427374, 843111, 986912, 953713, 876695]</td>\n",
       "      <td>[1094955, 1048507, 1048962, 892573, 981494]</td>\n",
       "      <td>[6534178, 6533889, 6534178, 6534166, 6534178]</td>\n",
       "    </tr>\n",
       "    <tr>\n",
       "      <th>4</th>\n",
       "      <td>8</td>\n",
       "      <td>[835098, 872137, 910439, 924610, 992977, 10412...</td>\n",
       "      <td>[12604786, 1107066, 828935, 8204459, 5727795]</td>\n",
       "      <td>[839162, 13876458, 13115938, 1096317, 8090541]</td>\n",
       "      <td>[6534178, 6534178, 6533889, 6534178, 6534178]</td>\n",
       "    </tr>\n",
       "  </tbody>\n",
       "</table>\n",
       "</div>"
      ],
      "text/plain": [
       "   user_id                                             actual  \\\n",
       "0        1  [821867, 834484, 856942, 865456, 889248, 90795...   \n",
       "1        3  [835476, 851057, 872021, 878302, 879948, 90963...   \n",
       "2        6  [920308, 926804, 946489, 1006718, 1017061, 107...   \n",
       "3        7  [840386, 889774, 898068, 909714, 929067, 95347...   \n",
       "4        8  [835098, 872137, 910439, 924610, 992977, 10412...   \n",
       "\n",
       "                           weighted_random_recs_1  \\\n",
       "0    [6703878, 7166638, 5569419, 1045437, 888167]   \n",
       "1     [930870, 905436, 12355478, 955614, 1086304]   \n",
       "2  [1128206, 8122102, 12672883, 1021709, 1078127]   \n",
       "3      [12427374, 843111, 986912, 953713, 876695]   \n",
       "4   [12604786, 1107066, 828935, 8204459, 5727795]   \n",
       "\n",
       "                           weighted_random_recs_2  \\\n",
       "0    [865233, 10149265, 9242471, 896613, 5996054]   \n",
       "1     [6534330, 6534178, 873887, 8065410, 920654]   \n",
       "2   [947858, 15926844, 6533765, 1076875, 6424251]   \n",
       "3     [1094955, 1048507, 1048962, 892573, 981494]   \n",
       "4  [839162, 13876458, 13115938, 1096317, 8090541]   \n",
       "\n",
       "                          weighted_random_recs_3  \n",
       "0  [6533889, 6534178, 6534178, 6534178, 6534178]  \n",
       "1  [6534178, 6534178, 6534178, 6534178, 6534178]  \n",
       "2  [6534178, 6534178, 6534178, 6534178, 6534178]  \n",
       "3  [6534178, 6533889, 6534178, 6534166, 6534178]  \n",
       "4  [6534178, 6534178, 6533889, 6534178, 6534178]  "
      ]
     },
     "execution_count": 12,
     "metadata": {},
     "output_type": "execute_result"
    }
   ],
   "source": [
    "my_result.head(5)"
   ]
  },
  {
   "cell_type": "markdown",
   "metadata": {
    "colab_type": "text",
    "id": "hyNG6O-wC8Y_"
   },
   "source": [
    "### Задание 2. Расчет метрик\n",
    "Рассчитайте Precision@5 для каждого алгоритма (с вебинара и weighted_random_recommendation) с помощью функции из вебинара 1. Какой алгоритм показывает лучшее качество? Почему?"
   ]
  },
  {
   "cell_type": "code",
   "execution_count": 13,
   "metadata": {
    "colab": {},
    "colab_type": "code",
    "id": "36HtRgm8C8ZA",
    "outputId": "971ccba1-6f06-4ac8-fd2d-10ba527e0fe5"
   },
   "outputs": [
    {
     "data": {
      "text/html": [
       "<div>\n",
       "<style scoped>\n",
       "    .dataframe tbody tr th:only-of-type {\n",
       "        vertical-align: middle;\n",
       "    }\n",
       "\n",
       "    .dataframe tbody tr th {\n",
       "        vertical-align: top;\n",
       "    }\n",
       "\n",
       "    .dataframe thead th {\n",
       "        text-align: right;\n",
       "    }\n",
       "</style>\n",
       "<table border=\"1\" class=\"dataframe\">\n",
       "  <thead>\n",
       "    <tr style=\"text-align: right;\">\n",
       "      <th></th>\n",
       "      <th>user_id</th>\n",
       "      <th>actual</th>\n",
       "      <th>random_recommendation</th>\n",
       "      <th>popular_recommendation</th>\n",
       "      <th>itemitem</th>\n",
       "      <th>cosine</th>\n",
       "      <th>tfidf</th>\n",
       "      <th>own_purchases</th>\n",
       "    </tr>\n",
       "  </thead>\n",
       "  <tbody>\n",
       "    <tr>\n",
       "      <th>0</th>\n",
       "      <td>1</td>\n",
       "      <td>[  821867   834484   856942   865456   889248 ...</td>\n",
       "      <td>[1019719, 2332987, 5550112, 9858801, 1072575]</td>\n",
       "      <td>[6534178, 6533889, 1029743, 6534166, 1082185]</td>\n",
       "      <td>[999999, 1082185, 981760, 1127831, 995242]</td>\n",
       "      <td>[1082185, 999999, 981760, 1127831, 1098066]</td>\n",
       "      <td>[1082185, 981760, 1127831, 999999, 1098066]</td>\n",
       "      <td>[1082185, 1029743, 995785, 1004906, 1081177]</td>\n",
       "    </tr>\n",
       "    <tr>\n",
       "      <th>1</th>\n",
       "      <td>3</td>\n",
       "      <td>[  835476   851057   872021   878302   879948 ...</td>\n",
       "      <td>[839002, 13158305, 12354593, 8199063, 15597006]</td>\n",
       "      <td>[6534178, 6533889, 1029743, 6534166, 1082185]</td>\n",
       "      <td>[999999, 1082185, 981760, 1098066, 995242]</td>\n",
       "      <td>[1082185, 1098066, 981760, 999999, 826249]</td>\n",
       "      <td>[1082185, 981760, 1098066, 826249, 999999]</td>\n",
       "      <td>[1082185, 1098066, 6534178, 1127831, 1068719]</td>\n",
       "    </tr>\n",
       "  </tbody>\n",
       "</table>\n",
       "</div>"
      ],
      "text/plain": [
       "   user_id                                             actual  \\\n",
       "0        1  [  821867   834484   856942   865456   889248 ...   \n",
       "1        3  [  835476   851057   872021   878302   879948 ...   \n",
       "\n",
       "                             random_recommendation  \\\n",
       "0    [1019719, 2332987, 5550112, 9858801, 1072575]   \n",
       "1  [839002, 13158305, 12354593, 8199063, 15597006]   \n",
       "\n",
       "                          popular_recommendation  \\\n",
       "0  [6534178, 6533889, 1029743, 6534166, 1082185]   \n",
       "1  [6534178, 6533889, 1029743, 6534166, 1082185]   \n",
       "\n",
       "                                     itemitem  \\\n",
       "0  [999999, 1082185, 981760, 1127831, 995242]   \n",
       "1  [999999, 1082185, 981760, 1098066, 995242]   \n",
       "\n",
       "                                        cosine  \\\n",
       "0  [1082185, 999999, 981760, 1127831, 1098066]   \n",
       "1   [1082185, 1098066, 981760, 999999, 826249]   \n",
       "\n",
       "                                         tfidf  \\\n",
       "0  [1082185, 981760, 1127831, 999999, 1098066]   \n",
       "1   [1082185, 981760, 1098066, 826249, 999999]   \n",
       "\n",
       "                                   own_purchases  \n",
       "0   [1082185, 1029743, 995785, 1004906, 1081177]  \n",
       "1  [1082185, 1098066, 6534178, 1127831, 1068719]  "
      ]
     },
     "execution_count": 13,
     "metadata": {},
     "output_type": "execute_result"
    }
   ],
   "source": [
    "result = pd.read_csv('predictions_basic.csv')\n",
    "result.head(2)"
   ]
  },
  {
   "cell_type": "code",
   "execution_count": 14,
   "metadata": {},
   "outputs": [
    {
     "data": {
      "text/plain": [
       "str"
      ]
     },
     "execution_count": 14,
     "metadata": {},
     "output_type": "execute_result"
    }
   ],
   "source": [
    "type(result['actual'][0])"
   ]
  },
  {
   "cell_type": "code",
   "execution_count": 20,
   "metadata": {},
   "outputs": [
    {
     "data": {
      "text/html": [
       "<div>\n",
       "<style scoped>\n",
       "    .dataframe tbody tr th:only-of-type {\n",
       "        vertical-align: middle;\n",
       "    }\n",
       "\n",
       "    .dataframe tbody tr th {\n",
       "        vertical-align: top;\n",
       "    }\n",
       "\n",
       "    .dataframe thead th {\n",
       "        text-align: right;\n",
       "    }\n",
       "</style>\n",
       "<table border=\"1\" class=\"dataframe\">\n",
       "  <thead>\n",
       "    <tr style=\"text-align: right;\">\n",
       "      <th></th>\n",
       "      <th>user_id</th>\n",
       "      <th>actual</th>\n",
       "      <th>random_recommendation</th>\n",
       "      <th>popular_recommendation</th>\n",
       "      <th>itemitem</th>\n",
       "      <th>cosine</th>\n",
       "      <th>tfidf</th>\n",
       "      <th>own_purchases</th>\n",
       "      <th>weighted_random_recs_1</th>\n",
       "      <th>weighted_random_recs_2</th>\n",
       "      <th>weighted_random_recs_3</th>\n",
       "    </tr>\n",
       "  </thead>\n",
       "  <tbody>\n",
       "    <tr>\n",
       "      <th>0</th>\n",
       "      <td>1</td>\n",
       "      <td>[  821867   834484   856942   865456   889248 ...</td>\n",
       "      <td>[19719, 2332987, 5550112, 9858801, 1072575]</td>\n",
       "      <td>[534178, 6533889, 1029743, 6534166, 1082185]</td>\n",
       "      <td>[99999, 1082185, 981760, 1127831, 995242]</td>\n",
       "      <td>[82185, 999999, 981760, 1127831, 1098066]</td>\n",
       "      <td>[82185, 981760, 1127831, 999999, 1098066]</td>\n",
       "      <td>[1082185, 1029743, 995785, 1004906, 1081177]</td>\n",
       "      <td>[6703878, 7166638, 5569419, 1045437, 888167]</td>\n",
       "      <td>[865233, 10149265, 9242471, 896613, 5996054]</td>\n",
       "      <td>[6533889, 6534178, 6534178, 6534178, 6534178]</td>\n",
       "    </tr>\n",
       "    <tr>\n",
       "      <th>1</th>\n",
       "      <td>3</td>\n",
       "      <td>[  835476   851057   872021   878302   879948 ...</td>\n",
       "      <td>[39002, 13158305, 12354593, 8199063, 15597006]</td>\n",
       "      <td>[534178, 6533889, 1029743, 6534166, 1082185]</td>\n",
       "      <td>[99999, 1082185, 981760, 1098066, 995242]</td>\n",
       "      <td>[82185, 1098066, 981760, 999999, 826249]</td>\n",
       "      <td>[82185, 981760, 1098066, 826249, 999999]</td>\n",
       "      <td>[1082185, 1098066, 6534178, 1127831, 1068719]</td>\n",
       "      <td>[930870, 905436, 12355478, 955614, 1086304]</td>\n",
       "      <td>[6534330, 6534178, 873887, 8065410, 920654]</td>\n",
       "      <td>[6534178, 6534178, 6534178, 6534178, 6534178]</td>\n",
       "    </tr>\n",
       "    <tr>\n",
       "      <th>2</th>\n",
       "      <td>6</td>\n",
       "      <td>[  920308   926804   946489  1006718  1017061 ...</td>\n",
       "      <td>[4112110, 13671679, 9651712, 13416730, 884319]</td>\n",
       "      <td>[534178, 6533889, 1029743, 6534166, 1082185]</td>\n",
       "      <td>[99999, 1082185, 981760, 1127831, 995242]</td>\n",
       "      <td>[82185, 999999, 981760, 1127831, 1098066]</td>\n",
       "      <td>[82185, 981760, 1127831, 999999, 878996]</td>\n",
       "      <td>[1082185, 1029743, 6534178, 1127831, 995785]</td>\n",
       "      <td>[1128206, 8122102, 12672883, 1021709, 1078127]</td>\n",
       "      <td>[947858, 15926844, 6533765, 1076875, 6424251]</td>\n",
       "      <td>[6534178, 6534178, 6534178, 6534178, 6534178]</td>\n",
       "    </tr>\n",
       "  </tbody>\n",
       "</table>\n",
       "</div>"
      ],
      "text/plain": [
       "   user_id                                             actual  \\\n",
       "0        1  [  821867   834484   856942   865456   889248 ...   \n",
       "1        3  [  835476   851057   872021   878302   879948 ...   \n",
       "2        6  [  920308   926804   946489  1006718  1017061 ...   \n",
       "\n",
       "                            random_recommendation  \\\n",
       "0     [19719, 2332987, 5550112, 9858801, 1072575]   \n",
       "1  [39002, 13158305, 12354593, 8199063, 15597006]   \n",
       "2  [4112110, 13671679, 9651712, 13416730, 884319]   \n",
       "\n",
       "                         popular_recommendation  \\\n",
       "0  [534178, 6533889, 1029743, 6534166, 1082185]   \n",
       "1  [534178, 6533889, 1029743, 6534166, 1082185]   \n",
       "2  [534178, 6533889, 1029743, 6534166, 1082185]   \n",
       "\n",
       "                                    itemitem  \\\n",
       "0  [99999, 1082185, 981760, 1127831, 995242]   \n",
       "1  [99999, 1082185, 981760, 1098066, 995242]   \n",
       "2  [99999, 1082185, 981760, 1127831, 995242]   \n",
       "\n",
       "                                      cosine  \\\n",
       "0  [82185, 999999, 981760, 1127831, 1098066]   \n",
       "1   [82185, 1098066, 981760, 999999, 826249]   \n",
       "2  [82185, 999999, 981760, 1127831, 1098066]   \n",
       "\n",
       "                                       tfidf  \\\n",
       "0  [82185, 981760, 1127831, 999999, 1098066]   \n",
       "1   [82185, 981760, 1098066, 826249, 999999]   \n",
       "2   [82185, 981760, 1127831, 999999, 878996]   \n",
       "\n",
       "                                   own_purchases  \\\n",
       "0   [1082185, 1029743, 995785, 1004906, 1081177]   \n",
       "1  [1082185, 1098066, 6534178, 1127831, 1068719]   \n",
       "2   [1082185, 1029743, 6534178, 1127831, 995785]   \n",
       "\n",
       "                           weighted_random_recs_1  \\\n",
       "0    [6703878, 7166638, 5569419, 1045437, 888167]   \n",
       "1     [930870, 905436, 12355478, 955614, 1086304]   \n",
       "2  [1128206, 8122102, 12672883, 1021709, 1078127]   \n",
       "\n",
       "                          weighted_random_recs_2  \\\n",
       "0   [865233, 10149265, 9242471, 896613, 5996054]   \n",
       "1    [6534330, 6534178, 873887, 8065410, 920654]   \n",
       "2  [947858, 15926844, 6533765, 1076875, 6424251]   \n",
       "\n",
       "                          weighted_random_recs_3  \n",
       "0  [6533889, 6534178, 6534178, 6534178, 6534178]  \n",
       "1  [6534178, 6534178, 6534178, 6534178, 6534178]  \n",
       "2  [6534178, 6534178, 6534178, 6534178, 6534178]  "
      ]
     },
     "execution_count": 20,
     "metadata": {},
     "output_type": "execute_result"
    }
   ],
   "source": [
    "result['weighted_random_recs_1'] = my_result['weighted_random_recs_1']\n",
    "result['weighted_random_recs_2'] = my_result['weighted_random_recs_2']\n",
    "result['weighted_random_recs_3'] = my_result['weighted_random_recs_3']\n",
    "\n",
    "result.head(3)"
   ]
  },
  {
   "cell_type": "code",
   "execution_count": 25,
   "metadata": {},
   "outputs": [],
   "source": [
    "def precision_at_k(recommended_list, bought_list, k=5):\n",
    "    \n",
    "    bought_list = np.array(bought_list)\n",
    "    recommended_list = np.array(recommended_list)\n",
    "    \n",
    "    bought_list = bought_list  # Тут нет [:k] !!\n",
    "    recommended_list = recommended_list[:k]\n",
    "    \n",
    "    flags = np.isin(bought_list, recommended_list)\n",
    "    \n",
    "    precision = flags.sum() / len(recommended_list)\n",
    "    \n",
    "    \n",
    "    return precision"
   ]
  },
  {
   "cell_type": "code",
   "execution_count": 27,
   "metadata": {},
   "outputs": [
    {
     "name": "stdout",
     "output_type": "stream",
     "text": [
      "random_recommendation 0.0\n",
      "popular_recommendation 0.0\n",
      "itemitem 0.0\n",
      "cosine 0.0\n",
      "tfidf 0.0\n",
      "weighted_random_recs_1 0.0\n",
      "weighted_random_recs_2 0.0\n",
      "weighted_random_recs_3 0.0\n"
     ]
    }
   ],
   "source": [
    "alg = list(result.columns)[2:] \n",
    "alg.remove('own_purchases')\n",
    "for i in alg:\n",
    "    precision = result.apply(lambda x: precision_at_k(x[i], x['actual'],  5), axis=1).mean()\n",
    "    print(i, precision)"
   ]
  },
  {
   "cell_type": "code",
   "execution_count": 28,
   "metadata": {},
   "outputs": [
    {
     "name": "stdout",
     "output_type": "stream",
     "text": [
      "0.0\n"
     ]
    }
   ],
   "source": [
    "print(precision_at_k(result['own_purchases'],result['actual'] ))"
   ]
  }
 ],
 "metadata": {
  "colab": {
   "name": "hw_webinar_2.ipynb",
   "provenance": []
  },
  "kernelspec": {
   "display_name": "Python 3",
   "language": "python",
   "name": "python3"
  },
  "language_info": {
   "codemirror_mode": {
    "name": "ipython",
    "version": 3
   },
   "file_extension": ".py",
   "mimetype": "text/x-python",
   "name": "python",
   "nbconvert_exporter": "python",
   "pygments_lexer": "ipython3",
   "version": "3.8.5"
  }
 },
 "nbformat": 4,
 "nbformat_minor": 1
}
